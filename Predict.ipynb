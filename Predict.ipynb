{
 "cells": [
  {
   "cell_type": "code",
   "execution_count": 1,
   "metadata": {},
   "outputs": [
    {
     "data": {
      "text/plain": [
       "Name: Compile Error\n",
       "Message: <console>:26: error: not found: value co\n",
       "       import co.theasi.plotly\n",
       "              ^\n",
       "\n",
       "StackTrace: "
      ]
     },
     "execution_count": 1,
     "metadata": {},
     "output_type": "execute_result"
    }
   ],
   "source": [
    "import org.apache.spark.sql.types._\n",
    "import co.theasi.plotly"
   ]
  },
  {
   "cell_type": "code",
   "execution_count": 15,
   "metadata": {},
   "outputs": [
    {
     "name": "stdout",
     "output_type": "stream",
     "text": [
      "+--------+--------+--------------------+--------+--------------------+--------+------------------+-----+--------+---------+------------------+--------+----------+\n",
      "|ItemCode|DocEntry|             DocDate|CardCode|            CardName|DocTotal|        Dscription|Price|Quantity|LineTotal|          ItemName|FrgnName|ItmsGrpCod|\n",
      "+--------+--------+--------------------+--------+--------------------+--------+------------------+-----+--------+---------+------------------+--------+----------+\n",
      "| 0104599|  179268|2018-01-05T22:50:...| C001342|F871E733852645B1A...|  166.21|ผักกูดOrganic 150g| 13.5|       1|     13.5|ผักกูดOrganic 150g|    null|       104|\n",
      "| 0104599|  743337|2018-01-18T08:27:...| C003056|617AB8DB9B5F4D10A...|  237.84|ผักกูดOrganic 150g| 13.5|       1|     13.5|ผักกูดOrganic 150g|    null|       104|\n",
      "| 0104599|  797159|2018-01-19T20:35:...| C440176|D53C7A6ED3794A19B...|   123.4|ผักกูดOrganic 150g| 13.5|       1|     13.5|ผักกูดOrganic 150g|    null|       104|\n",
      "| 0104599|  961161|2018-01-22T22:36:...| C001009|880EE7AC020E4E3B8...|  181.96|ผักกูดOrganic 150g| 13.5|       1|     13.5|ผักกูดOrganic 150g|    null|       104|\n",
      "| 0104599| 1092164|2018-01-26T10:00:...| C440189|86956520622A4FC29...|  347.96|ผักกูดOrganic 150g| 13.5|       1|     13.5|ผักกูดOrganic 150g|    null|       104|\n",
      "| 0104599| 1268483|2018-01-29T17:07:...| S000973|A5C474F255C5435F9...|   79.52|ผักกูดOrganic 150g| 13.5|       1|     13.5|ผักกูดOrganic 150g|    null|       104|\n",
      "| 0104599|   61682|2018-01-03T04:35:...| C440852|CCFFF74105C642378...|  136.09|ผักกูดOrganic 150g| 13.5|       1|     13.5|ผักกูดOrganic 150g|    null|       104|\n",
      "| 0104599|  231509|2018-01-06T18:02:...| E000630|92EB354903F145769...|  301.49|ผักกูดOrganic 150g| 13.5|       1|     13.5|ผักกูดOrganic 150g|    null|       104|\n",
      "| 0104599|  687256|2018-01-17T05:15:...| C001165|689528E9207145C0B...|   924.3|ผักกูดOrganic 150g| 13.5|       1|     13.5|ผักกูดOrganic 150g|    null|       104|\n",
      "| 0104599|  747918|2018-01-18T13:15:...| C001123|E7BE9647509D4EA8A...|   200.5|ผักกูดOrganic 150g| 13.5|       1|     13.5|ผักกูดOrganic 150g|    null|       104|\n",
      "| 0104599|  899838|2018-01-20T23:33:...| C277531|6202346671C444328...|  333.72|ผักกูดOrganic 150g| 13.5|       1|     13.5|ผักกูดOrganic 150g|    null|       104|\n",
      "| 0104599|   45054|2018-01-02T16:40:...| C603941|D85A8908F0AA40BDA...|  280.79|ผักกูดOrganic 150g| 13.5|       1|     13.5|ผักกูดOrganic 150g|    null|       104|\n",
      "| 0104599|   59680|2018-01-03T03:38:...| C440065|A101AD02280B4AF29...|  255.52|ผักกูดOrganic 150g| 13.5|       1|     13.5|ผักกูดOrganic 150g|    null|       104|\n",
      "| 0104599|  690915|2018-01-17T06:56:...| C530064|38E5C31DF6CB46259...|   429.6|ผักกูดOrganic 150g| 13.5|       1|     13.5|ผักกูดOrganic 150g|    null|       104|\n",
      "| 0104599|  758197|2018-01-19T00:55:...| C440188|79DADCEDF16D4FFE8...|  586.28|ผักกูดOrganic 150g| 13.5|       1|     13.5|ผักกูดOrganic 150g|    null|       104|\n",
      "| 0104599|  771028|2018-01-19T07:22:...| C003060|5FC73B5401AF46D39...|   499.4|ผักกูดOrganic 150g| 13.5|       1|     13.5|ผักกูดOrganic 150g|    null|       104|\n",
      "| 0104599| 1275663|2018-01-30T06:06:...| C001146|2C491C79169E49709...|   161.5|ผักกูดOrganic 150g| 13.5|       1|     13.5|ผักกูดOrganic 150g|    null|       104|\n",
      "| 0104599|  157025|2018-01-05T10:16:...| C003074|52CF1BD6156240D18...|  311.03|ผักกูดOrganic 150g| 13.5|       1|     13.5|ผักกูดOrganic 150g|    null|       104|\n",
      "| 0104599|  433861|2018-01-11T11:12:...| C000546|D7B97944B6CA470BB...|  213.44|ผักกูดOrganic 150g| 13.5|       1|     13.5|ผักกูดOrganic 150g|    null|       104|\n",
      "| 0104599|  581090|2018-01-13T22:45:...| C440212|7C983AD8933D4FC09...|  485.11|ผักกูดOrganic 150g| 13.5|       1|     13.5|ผักกูดOrganic 150g|    null|       104|\n",
      "+--------+--------+--------------------+--------+--------------------+--------+------------------+-----+--------+---------+------------------+--------+----------+\n",
      "only showing top 20 rows\n",
      "\n"
     ]
    },
    {
     "data": {
      "text/plain": [
       "header_schema = StructType(StructField(DocEntry,IntegerType,true), StructField(DocDate,StringType,true), StructField(CardCode,StringType,true), StructField(CardName,StringType,true), StructField(DocTotal,DoubleType,true))\n",
       "detail_schema = StructType(StructField(DocEntry,IntegerType,true), StructField(ItemCode,StringType,true), StructField(Dscription,StringType,true), StructField(Price,DoubleType,true), StructField(Quantity,IntegerType,true), StructField(LineTotal,DoubleType,true))\n",
       "item_schema = StructType(StructField(ItemCode,StringType,true), StructField(ItemName,StringType,true), StructField(FrgnName,StringType,true), StructField(ItmsGrpCod,StringType,true))\n"
      ]
     },
     "metadata": {},
     "output_type": "display_data"
    },
    {
     "data": {
      "text/plain": [
       "headers: org...\n"
      ]
     },
     "metadata": {},
     "output_type": "display_data"
    },
    {
     "data": {
      "text/plain": [
       "StructType(StructField(ItemCode,StringType,true), StructField(ItemName,StringType,true), StructField(FrgnName,StringType,true), StructField(ItmsGrpCod,StringType,true))"
      ]
     },
     "execution_count": 15,
     "metadata": {},
     "output_type": "execute_result"
    }
   ],
   "source": [
    "val header_schema = StructType(Array(\n",
    "    StructField(\"DocEntry\", IntegerType, true),\n",
    "    StructField(\"DocDate\", StringType, true),\n",
    "    StructField(\"CardCode\", StringType, true),\n",
    "    StructField(\"CardName\", StringType, true),\n",
    "    StructField(\"DocTotal\", DoubleType, true)))\n",
    "val detail_schema = StructType(Array(\n",
    "    StructField(\"DocEntry\", IntegerType, true),\n",
    "    StructField(\"ItemCode\", StringType, true),\n",
    "    StructField(\"Dscription\", StringType, true),\n",
    "    StructField(\"Price\", DoubleType, true),\n",
    "    StructField(\"Quantity\", IntegerType, true),\n",
    "    StructField(\"LineTotal\", DoubleType, true)))\n",
    "val item_schema = StructType(Array(\n",
    "    StructField(\"ItemCode\", StringType, true),\n",
    "    StructField(\"ItemName\", StringType, true),\n",
    "    StructField(\"FrgnName\", StringType, true),\n",
    "    StructField(\"ItmsGrpCod\", StringType, true)))\n",
    "\n",
    "val headers = spark.read.schema(header_schema).option(\"header\", \"true\").option(\"delimiter\", \"|\").csv(\"./data/2018-01/sohd*.csv\")\n",
    "val details = spark.read.schema(detail_schema).option(\"header\", \"true\").option(\"delimiter\", \"|\").csv(\"./data/2018-01/sodt*.csv\")\n",
    "val items_master = spark.read.schema(item_schema).option(\"header\", \"true\").option(\"delimiter\", \"|\").csv(\"./data/items-master.csv\")\n",
    "val joined_df = headers.join(details, \"DocEntry\").join(items_master, \"ItemCode\")\n",
    "joined_df.show(20)"
   ]
  },
  {
   "cell_type": "code",
   "execution_count": 16,
   "metadata": {},
   "outputs": [],
   "source": [
    "joined_df.createOrReplaceTempView(\"dataTable\")"
   ]
  },
  {
   "cell_type": "code",
   "execution_count": 19,
   "metadata": {},
   "outputs": [
    {
     "data": {
      "text/plain": [
       "+----------+--------+\n",
       "|ItmsGrpCod|count(1)|\n",
       "+----------+--------+\n",
       "|       112|  659628|\n",
       "|       110| 1292187|\n",
       "|       107|  505614|\n",
       "|       104| 1009870|\n",
       "|       111|  604659|\n",
       "|       108|  506173|\n",
       "|       106|  580034|\n",
       "|       105| 1138680|\n",
       "|       109|  580008|\n",
       "+----------+--------+\n",
       "\n"
      ]
     },
     "execution_count": 19,
     "metadata": {},
     "output_type": "execute_result"
    }
   ],
   "source": [
    "%%sql\n",
    "SELECT ItmsGrpCod, count(*) FROM dataTable group by ItmsGrpCod"
   ]
  },
  {
   "cell_type": "code",
   "execution_count": null,
   "metadata": {},
   "outputs": [],
   "source": []
  }
 ],
 "metadata": {
  "kernelspec": {
   "display_name": "Apache Toree - Scala",
   "language": "scala",
   "name": "apache_toree_scala"
  },
  "language_info": {
   "codemirror_mode": "text/x-scala",
   "file_extension": ".scala",
   "mimetype": "text/x-scala",
   "name": "scala",
   "pygments_lexer": "scala",
   "version": "2.11.12"
  }
 },
 "nbformat": 4,
 "nbformat_minor": 2
}
