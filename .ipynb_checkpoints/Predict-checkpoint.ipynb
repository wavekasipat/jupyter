{
 "cells": [
  {
   "cell_type": "code",
   "execution_count": null,
   "metadata": {},
   "outputs": [],
   "source": [
    "import org.apache.spark.sql.types._"
   ]
  },
  {
   "cell_type": "code",
   "execution_count": null,
   "metadata": {},
   "outputs": [],
   "source": [
    "val headerSchema = StructType(Array(\n",
    "    StructField(\"DocEntry\", IntegerType, true),\n",
    "    StructField(\"DocDate\", StringType, true),\n",
    "    StructField(\"CardCode\", StringType, true),\n",
    "    StructField(\"CardName\", StringType, true),\n",
    "    StructField(\"DocTotal\", DoubleType, true)))\n",
    "val detailSchema = StructType(Array(\n",
    "    StructField(\"DocEntry\", IntegerType, true),\n",
    "    StructField(\"ItemCode\", StringType, true),\n",
    "    StructField(\"Dscription\", StringType, true),\n",
    "    StructField(\"Price\", DoubleType, true),\n",
    "    StructField(\"Quantity\", IntegerType, true),\n",
    "    StructField(\"LineTotal\", DoubleType, true)))\n",
    "\n",
    "val headers = spark.read.option(\"inferSchema\",\"true\").option(\"header\", \"true\").option(\"delimiter\", \"\\t\").csv(\"./data/2018-01/sohd*.csv\")\n",
    "val details = spark.read.option(\"inferSchema\",\"true\").option(\"header\", \"true\").option(\"delimiter\", \"\\t\").csv(\"./data/2018-01/sodt*.csv\")\n",
    "val items_master = spark.read.option(\"inferSchema\",\"true\").option(\"header\", \"true\").option(\"delimiter\", \"\\t\").csv(\"./data/items-master.csv\")"
   ]
  }
 ],
 "metadata": {
  "kernelspec": {
   "display_name": "Apache Toree - Scala",
   "language": "scala",
   "name": "apache_toree_scala"
  },
  "language_info": {
   "codemirror_mode": "text/x-scala",
   "file_extension": ".scala",
   "mimetype": "text/x-scala",
   "name": "scala",
   "pygments_lexer": "scala",
   "version": "2.11.12"
  }
 },
 "nbformat": 4,
 "nbformat_minor": 2
}
