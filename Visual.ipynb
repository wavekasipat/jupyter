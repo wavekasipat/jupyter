{
 "cells": [
  {
   "cell_type": "code",
   "execution_count": 1,
   "metadata": {},
   "outputs": [],
   "source": [
    "from pyspark.sql.types import *"
   ]
  },
  {
   "cell_type": "code",
   "execution_count": 4,
   "metadata": {},
   "outputs": [],
   "source": [
    "from pyspark.context import SparkContext\n",
    "from pyspark.sql.session import SparkSession\n",
    "sc = SparkContext('local')\n",
    "spark = SparkSession(sc)"
   ]
  },
  {
   "cell_type": "code",
   "execution_count": 21,
   "metadata": {},
   "outputs": [
    {
     "name": "stdout",
     "output_type": "stream",
     "text": [
      "+--------+--------+--------------------+--------+--------+--------------------+-------+--------+---------+----------+\n",
      "|ItemCode|DocEntry|             DocDate|CardCode|DocTotal|          Dscription|  Price|Quantity|LineTotal|ItmsGrpCod|\n",
      "+--------+--------+--------------------+--------+--------+--------------------+-------+--------+---------+----------+\n",
      "| 5402648|     148|2018-01-01T00:43:...| C550025| 1391.58|กระเช้า ราคา 1800...|1258.92|       1|  1258.92|       112|\n",
      "| 3702298|     148|2018-01-01T00:43:...| C550025| 1391.58|  อีซี่บาร์ รสไข่แดง|  47.38|       1|    47.38|       111|\n",
      "| 1109076|     148|2018-01-01T00:43:...| C550025| 1391.58|ยำสาหร่ายSHIMANTO...|  54.69|       1|    54.69|       108|\n",
      "| 4104087|     148|2018-01-01T00:43:...| C550025| 1391.58|น้ำส้มกรีนสปอต 26...|   9.37|       1|     9.37|       110|\n",
      "| 2101016|     148|2018-01-01T00:43:...| C550025| 1391.58|         บัวลอยเผือก|  21.22|       1|    21.22|       109|\n",
      "| 0101690|     463|2018-01-01T02:06:...| E000676|  1289.0|ผักกาดไดโตเกียว (...|   18.0|       1|     18.0|       104|\n",
      "| 3602189|     463|2018-01-01T02:06:...| E000676|  1289.0|กระเช้าเฮอริเทจ เ...| 1256.0|       1|   1256.0|       111|\n",
      "| 0104700|     463|2018-01-01T02:06:...| E000676|  1289.0|ผักไทย Morganic F...|   15.0|       1|     15.0|       104|\n",
      "| 4002119|     471|2018-01-01T02:08:...| C001347|  234.72|ซุปลูกเดือยใบหม่อ...|  29.74|       1|    29.74|       111|\n",
      "| 0202769|     471|2018-01-01T02:08:...| C001347|  234.72|มะม่วงแก้ว(สวนภรภ...|  35.85|       1|    35.85|       105|\n",
      "| 4104342|     471|2018-01-01T02:08:...| C001347|  234.72|น้ำส้ม 4 สายพันธ์...|  13.93|       1|    13.93|       110|\n",
      "| 7101026|     471|2018-01-01T02:08:...| C001347|  234.72|ผ้าอ้อมผู้ใหญ่เซอ...|  155.2|       1|    155.2|       112|\n",
      "| 0705148|     496|2018-01-01T02:14:...| C001342|  607.34|  รวมมิตรทะเล150กรัม|  69.39|       1|    69.39|       107|\n",
      "| 0106262|     496|2018-01-01T02:14:...| C001342|  607.34|     เรดโอ๊ค (250g.)|   25.0|       1|     25.0|       104|\n",
      "| 0204068|     496|2018-01-01T02:14:...| C001342|  607.34|           ลูกไหนแดง|  229.0|       1|    229.0|       105|\n",
      "| 1903061|     496|2018-01-01T02:14:...| C001342|  607.34|185 โยเกิร์ตวุ้นม...|  38.97|       1|    38.97|       110|\n",
      "| 0803001|     496|2018-01-01T02:14:...| C001342|  607.34|ปลาอินทรีย์ในน้ำม...| 138.75|       1|   138.75|       107|\n",
      "| 4105120|     496|2018-01-01T02:14:...| C001342|  607.34|ชาสมุนไพร รสน้ำผึ...|  14.01|       1|    14.01|       110|\n",
      "| 6201013|     496|2018-01-01T02:14:...| C001342|  607.34|มีโอ เม็ด รสซีฟู้...|  92.22|       1|    92.22|       112|\n",
      "| 0102386|     833|2018-01-01T03:53:...| C001016|  487.34|ถั่วลันเตาเล็ก (1...|   18.0|       1|     18.0|       104|\n",
      "+--------+--------+--------------------+--------+--------+--------------------+-------+--------+---------+----------+\n",
      "only showing top 20 rows\n",
      "\n"
     ]
    }
   ],
   "source": [
    "header_schema = StructType([\n",
    "  StructField(\"DocEntry\", IntegerType(), False),\n",
    "  StructField(\"DocDate\", StringType(), False),\n",
    "  StructField(\"CardCode\", StringType(), False),\n",
    "  StructField(\"CardName\", StringType(), False),\n",
    "  StructField(\"DocTotal\", DoubleType(), False),\n",
    "])\n",
    "detail_schema = StructType([\n",
    "  StructField(\"DocEntry\", IntegerType(), False),\n",
    "  StructField(\"ItemCode\", StringType(), False),\n",
    "  StructField(\"Dscription\", StringType(), False),\n",
    "  StructField(\"Price\", DoubleType(), False),\n",
    "  StructField(\"Quantity\", IntegerType(), False),\n",
    "  StructField(\"LineTotal\", DoubleType(), False),\n",
    "])\n",
    "item_schema = StructType([\n",
    "  StructField(\"ItemCode\", StringType(), False),\n",
    "  StructField(\"ItemName\", StringType(), False),\n",
    "  StructField(\"FrgnName\", StringType(), False),\n",
    "  StructField(\"ItmsGrpCod\", StringType(), False),\n",
    "])\n",
    "\n",
    "headers = spark.read.option(\"delimiter\", \"|\").csv('./data/2018-01/sohd*.csv', schema=header_schema, header=True).drop(\"CardName\")\n",
    "details = spark.read.option(\"delimiter\", \"|\").csv('./data/2018-01/sodt*.csv', schema=detail_schema, header=True)\n",
    "items_master = spark.read.option(\"delimiter\", \"|\").csv('./data/items-master.csv', schema=item_schema, header=True).select(\"ItemCode\", \"ItmsGrpCod\")\n",
    "# headers.show()\n",
    "# details.show()\n",
    "# items_master.show()\n",
    "joined_df = headers.join(details, \"DocEntry\").join(items_master, \"ItemCode\")\n",
    "joined_df.show(20)"
   ]
  },
  {
   "cell_type": "code",
   "execution_count": 20,
   "metadata": {},
   "outputs": [
    {
     "name": "stdout",
     "output_type": "stream",
     "text": [
      "+-------+------------------+------------------+--------------------+--------+--------------------+------------------+--------------------+-----------------+--------+-----------------+--------------------+--------+------------------+\n",
      "|summary|          ItemCode|          DocEntry|             DocDate|CardCode|            CardName|          DocTotal|          Dscription|            Price|Quantity|        LineTotal|            ItemName|FrgnName|        ItmsGrpCod|\n",
      "+-------+------------------+------------------+--------------------+--------+--------------------+------------------+--------------------+-----------------+--------+-----------------+--------------------+--------+------------------+\n",
      "|  count|           6876853|           6876853|             6876853| 6876853|             6876853|           6876853|             6876853|          6876853| 6876853|          6876853|             6876853|       0|           6876853|\n",
      "|   mean|1948772.2718621439| 649927.6835982971|                null|    null|                null|461.35175103204966|                null|74.07051533892093|     1.0|74.07051533892093|                null|    null|107.78124717803333|\n",
      "| stddev| 2204989.240141585|375233.77502102824|                null|    null|                null| 380.6166325669246|                null|140.2855461967163|     0.0|140.2855461967163|                null|    null|2.7138381681818022|\n",
      "|    min|           0101002|                 1|2018-01-01T00:00:...| C000004|0077326404BF4312A...|              0.49|\"HALE\"\"S BLUEBOY-...|             0.49|       1|             0.49|\"HALE\"\"S BLUEBOY-...|    null|               104|\n",
      "|    max|           9901002|           1300000|2018-01-30T23:60:...| s000944|FFF7FB6F4A3142069...|           7366.52|ไฮเนเก้น 500 ml. ...|          3522.94|       1|          3522.94|ไฮเนเก้น 500 ml. ...|    null|               112|\n",
      "+-------+------------------+------------------+--------------------+--------+--------------------+------------------+--------------------+-----------------+--------+-----------------+--------------------+--------+------------------+\n",
      "\n"
     ]
    }
   ],
   "source": []
  },
  {
   "cell_type": "code",
   "execution_count": null,
   "metadata": {},
   "outputs": [],
   "source": []
  }
 ],
 "metadata": {
  "kernelspec": {
   "display_name": "Python 3",
   "language": "python",
   "name": "python3"
  },
  "language_info": {
   "codemirror_mode": {
    "name": "ipython",
    "version": 3
   },
   "file_extension": ".py",
   "mimetype": "text/x-python",
   "name": "python",
   "nbconvert_exporter": "python",
   "pygments_lexer": "ipython3",
   "version": "3.6.7"
  }
 },
 "nbformat": 4,
 "nbformat_minor": 2
}
